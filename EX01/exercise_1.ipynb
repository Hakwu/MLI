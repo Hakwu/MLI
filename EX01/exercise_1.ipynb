{
 "cells": [
  {
   "cell_type": "markdown",
   "metadata": {},
   "source": [
    "Import library part\n",
    "___"
   ]
  },
  {
   "cell_type": "code",
   "execution_count": 17,
   "metadata": {},
   "outputs": [],
   "source": [
    "import csv\n",
    "import numpy as np\n",
    "\n",
    "# Init random function\n",
    "np.random.seed(42)\n",
    "\n",
    "# Number of data points\n",
    "n_rows = 300"
   ]
  },
  {
   "cell_type": "code",
   "execution_count": 18,
   "metadata": {},
   "outputs": [],
   "source": [
    "# Generate 6 columns with different means and standard deviations\n",
    "col1 = np.random.normal(loc=0, scale=1, size=n_rows)\n",
    "col2 = np.random.normal(loc=2, scale=3, size=n_rows)\n",
    "col3 = np.random.normal(loc=5, scale=2, size=n_rows)\n",
    "col4 = np.random.normal(loc=10, scale=4, size=n_rows)\n",
    "col5 = np.random.normal(loc=2.5, scale=1, size=n_rows)\n",
    "col6 = np.random.randint(low=0, high=10, size=n_rows).astype(float)\n",
    "\n",
    "# Combine the columns into a 2D array\n",
    "data = np.column_stack((col1, col2, col3, col4, col5, col6))\n",
    "\n",
    "# Positively correlated columns\n",
    "data[:, 0] = data[:, 0] + data[:, 2]\n",
    "\n",
    "# Negatively correlated columns\n",
    "data[:, 1] = data[:, 1] - data[:, 3]\n",
    "\n",
    "# Correlation close to 0\n",
    "data[:, 4] = data[:, 4] + np.random.normal(loc=0, scale=0.5, size=n_rows)"
   ]
  },
  {
   "cell_type": "code",
   "execution_count": 19,
   "metadata": {},
   "outputs": [],
   "source": [
    "# Save the generated data to a csv file\n",
    "with open('artificial_dataset.csv', 'w', newline='') as f:\n",
    "    writer = csv.writer(f)\n",
    "    writer.writerows(data)"
   ]
  },
  {
   "cell_type": "markdown",
   "metadata": {},
   "source": [
    "Nous obtenons bien les 6 colonnes de données respectant les conditions mentionnées sur l'énoncé de l'exercice."
   ]
  }
 ],
 "metadata": {
  "kernelspec": {
   "display_name": "Python 3",
   "language": "python",
   "name": "python3"
  },
  "language_info": {
   "codemirror_mode": {
    "name": "ipython",
    "version": 3
   },
   "file_extension": ".py",
   "mimetype": "text/x-python",
   "name": "python",
   "nbconvert_exporter": "python",
   "pygments_lexer": "ipython3",
   "version": "3.12.3"
  }
 },
 "nbformat": 4,
 "nbformat_minor": 2
}
